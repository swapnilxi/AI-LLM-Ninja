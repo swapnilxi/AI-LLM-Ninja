{
 "cells": [
  {
   "cell_type": "markdown",
   "metadata": {},
   "source": [
    "# Semantic Kernel Tool Use Example\n",
    "\n",
    "This document provides an overview and explanation of the code used to create a Semantic Kernel-based tool that integrates with ChromaDB for Retrieval-Augmented Generation (RAG). The example demonstrates how to build an AI agent that retrieves travel documents from a ChromaDB collection, augments user queries with semantic search results, and streams detailed travel recommendations."
   ]
  },
  {
   "cell_type": "markdown",
   "metadata": {},
   "source": [
    "## Initializing the Environment"
   ]
  },
  {
   "cell_type": "markdown",
   "metadata": {},
   "source": [
    "SQLite Version Fix\n",
    "If you encounter the error:\n",
    "```\n",
    "RuntimeError: Your system has an unsupported version of sqlite3. Chroma requires sqlite3 >= 3.35.0\n",
    "```\n",
    "\n",
    "Uncomment this code block at the start of your notebook:"
   ]
  },
  {
   "cell_type": "code",
   "execution_count": 2,
   "metadata": {},
   "outputs": [],
   "source": [
    "# %pip install pysqlite3-binary\n",
    "# import sys\n",
    "# sys.modules['sqlite3'] = sys.modules.pop('pysqlite3')"
   ]
  },
  {
   "cell_type": "markdown",
   "metadata": {},
   "source": [
    "### Importing Packages\n",
    "The following code imports the necessary packages:"
   ]
  },
  {
   "cell_type": "code",
   "execution_count": 2,
   "metadata": {},
   "outputs": [],
   "source": [
    "import os\n",
    "import chromadb\n",
    "\n",
    "from openai import AsyncOpenAI\n",
    "from typing import Annotated\n",
    "from IPython.display import display, HTML\n",
    "\n",
    "from semantic_kernel.kernel import Kernel\n",
    "from semantic_kernel.connectors.ai.open_ai import OpenAIChatCompletion\n",
    "from semantic_kernel.contents.chat_history import ChatHistory\n",
    "from semantic_kernel.functions import kernel_function\n",
    "from semantic_kernel.functions.kernel_arguments import KernelArguments\n",
    "from semantic_kernel.connectors.ai import FunctionChoiceBehavior\n",
    "from semantic_kernel.contents.function_call_content import FunctionCallContent\n",
    "from semantic_kernel.contents.function_result_content import FunctionResultContent\n",
    "from semantic_kernel.agents import ChatCompletionAgent"
   ]
  },
  {
   "cell_type": "markdown",
   "metadata": {},
   "source": [
    "### Creating the Semantic Kernel and AI Service\n",
    "\n",
    "A Semantic Kernel instance is created and configured with an asynchronous OpenAI chat completion service. The service is added to the kernel for use in generating responses."
   ]
  },
  {
   "cell_type": "code",
   "execution_count": 3,
   "metadata": {},
   "outputs": [],
   "source": [
    "# Initialize the asynchronous OpenAI client\n",
    "client = AsyncOpenAI(\n",
    "    api_key=os.environ[\"GITHUB_TOKEN\"],\n",
    "    base_url=\"https://models.inference.ai.azure.com/\"\n",
    ")\n",
    "\n",
    "# Create a Semantic Kernel instance and add an OpenAI chat completion service.\n",
    "kernel = Kernel()\n",
    "chat_completion_service = OpenAIChatCompletion(\n",
    "    ai_model_id=\"gpt-4o-mini\",\n",
    "    async_client=client,\n",
    "    service_id=\"agent\",\n",
    ")\n",
    "kernel.add_service(chat_completion_service)"
   ]
  },
  {
   "cell_type": "markdown",
   "metadata": {},
   "source": [
    "### Defining the Prompt Plugin\n",
    "\n",
    "The PromptPlugin is a native plugin that defines a function to build an augmented prompt using retrieval context"
   ]
  },
  {
   "cell_type": "code",
   "execution_count": 4,
   "metadata": {},
   "outputs": [
    {
     "data": {
      "text/plain": [
       "KernelPlugin(name='promptPlugin', description=None, functions={})"
      ]
     },
     "execution_count": 4,
     "metadata": {},
     "output_type": "execute_result"
    }
   ],
   "source": [
    "class PromptPlugin:\n",
    "    @kernel_function(\n",
    "        name=\"build_augmented_prompt\",\n",
    "        description=\"Build an augmented prompt using retrieval context.\"\n",
    "    )\n",
    "    @staticmethod\n",
    "    def build_augmented_prompt(query: str, retrieval_context: str) -> str:\n",
    "        return (\n",
    "            f\"Retrieved Context:\\n{retrieval_context}\\n\\n\"\n",
    "            f\"User Query: {query}\\n\\n\"\n",
    "            \"Based ONLY on the above context, please provide your answer.\"\n",
    "        )\n",
    "\n",
    "# Register the plugin with the kernel.\n",
    "kernel.add_plugin(PromptPlugin(), plugin_name=\"promptPlugin\")"
   ]
  },
  {
   "cell_type": "markdown",
   "metadata": {},
   "source": [
    "### Defining Weather Information Plugin\n",
    "\n",
    "The WeatherInfoPlugin is a native plugin that provides temperature information for specific travel destinations."
   ]
  },
  {
   "cell_type": "code",
   "execution_count": 5,
   "metadata": {},
   "outputs": [
    {
     "data": {
      "text/plain": [
       "KernelPlugin(name='weatherPlugin', description=None, functions={'get_destination_temperature': KernelFunctionFromMethod(metadata=KernelFunctionMetadata(name='get_destination_temperature', plugin_name='weatherPlugin', description='Get the average temperature for a specific travel destination.', parameters=[KernelParameterMetadata(name='destination', description=None, default_value=None, type_='str', is_required=True, type_object=<class 'str'>, schema_data={'type': 'string'}, include_in_function_choices=True)], is_prompt=False, is_asynchronous=False, return_parameter=KernelParameterMetadata(name='return', description='Returns the average temperature for the destination.', default_value=None, type_='str', is_required=True, type_object=<class 'str'>, schema_data={'type': 'string', 'description': 'Returns the average temperature for the destination.'}, include_in_function_choices=True), additional_properties={}), invocation_duration_histogram=<opentelemetry.metrics._internal.instrument._ProxyHistogram object at 0x000001E348ED8320>, streaming_duration_histogram=<opentelemetry.metrics._internal.instrument._ProxyHistogram object at 0x000001E348D381A0>, method=<bound method WeatherInfoPlugin.get_destination_temperature of <__main__.WeatherInfoPlugin object at 0x000001E34A3024E0>>, stream_method=None)})"
      ]
     },
     "execution_count": 5,
     "metadata": {},
     "output_type": "execute_result"
    }
   ],
   "source": [
    "class WeatherInfoPlugin:\n",
    "    \"\"\"A Plugin that provides the average temperature for a travel destination.\"\"\"\n",
    "\n",
    "    def __init__(self):\n",
    "        # Dictionary of destinations and their average temperatures\n",
    "        self.destination_temperatures = {\n",
    "            \"maldives\": \"82°F (28°C)\",\n",
    "            \"swiss alps\": \"45°F (7°C)\",\n",
    "            \"african safaris\": \"75°F (24°C)\"\n",
    "        }\n",
    "\n",
    "    @kernel_function(description=\"Get the average temperature for a specific travel destination.\")\n",
    "    def get_destination_temperature(self, destination: str) -> Annotated[str, \"Returns the average temperature for the destination.\"]:\n",
    "        \"\"\"Get the average temperature for a travel destination.\"\"\"\n",
    "        # Normalize the input destination (lowercase)\n",
    "        normalized_destination = destination.lower()\n",
    "\n",
    "        # Look up the temperature for the destination\n",
    "        if normalized_destination in self.destination_temperatures:\n",
    "            return f\"The average temperature in {destination} is {self.destination_temperatures[normalized_destination]}.\"\n",
    "        else:\n",
    "            return f\"Sorry, I don't have temperature information for {destination}. Available destinations are: Maldives, Swiss Alps, and African safaris.\"\n",
    "        \n",
    "# Register the weather plugin with the kernel.\n",
    "kernel.add_plugin(WeatherInfoPlugin(), plugin_name=\"weatherPlugin\")"
   ]
  },
  {
   "cell_type": "markdown",
   "metadata": {},
   "source": [
    "### Defining Destinations Information Plugin\n",
    "\n",
    "The DestinationsPlugin is a native plugin that provides detailed information about popular travel destinations."
   ]
  },
  {
   "cell_type": "code",
   "execution_count": 6,
   "metadata": {},
   "outputs": [
    {
     "data": {
      "text/plain": [
       "KernelPlugin(name='destinationsPlugin', description=None, functions={})"
      ]
     },
     "execution_count": 6,
     "metadata": {},
     "output_type": "execute_result"
    }
   ],
   "source": [
    "class DestinationsPlugin:\n",
    "    # Destination data store with rich details about popular travel locations\n",
    "    DESTINATIONS = {\n",
    "        \"maldives\": {\n",
    "            \"name\": \"The Maldives\",\n",
    "            \"description\": \"An archipelago of 26 atolls in the Indian Ocean, known for pristine beaches and overwater bungalows.\",\n",
    "            \"best_time\": \"November to April (dry season)\",\n",
    "            \"activities\": [\"Snorkeling\", \"Diving\", \"Island hopping\", \"Spa retreats\", \"Underwater dining\"],\n",
    "            \"avg_cost\": \"$400-1200 per night for luxury resorts\"\n",
    "        },\n",
    "        \"swiss alps\": {\n",
    "            \"name\": \"The Swiss Alps\",\n",
    "            \"description\": \"Mountain range spanning across Switzerland with picturesque villages and world-class ski resorts.\",\n",
    "            \"best_time\": \"December to March for skiing, June to September for hiking\",\n",
    "            \"activities\": [\"Skiing\", \"Snowboarding\", \"Hiking\", \"Mountain biking\", \"Paragliding\"],\n",
    "            \"avg_cost\": \"$250-500 per night for alpine accommodations\"\n",
    "        },\n",
    "        \"safari\": {\n",
    "            \"name\": \"African Safari\",\n",
    "            \"description\": \"Wildlife viewing experiences across various African countries including Kenya, Tanzania, and South Africa.\",\n",
    "            \"best_time\": \"June to October (dry season) for optimal wildlife viewing\",\n",
    "            \"activities\": [\"Game drives\", \"Walking safaris\", \"Hot air balloon rides\", \"Cultural village visits\"],\n",
    "            \"avg_cost\": \"$400-800 per person per day for luxury safari packages\"\n",
    "        },\n",
    "        \"bali\": {\n",
    "            \"name\": \"Bali, Indonesia\",\n",
    "            \"description\": \"Island paradise known for lush rice terraces, beautiful temples, and vibrant culture.\",\n",
    "            \"best_time\": \"April to October (dry season)\",\n",
    "            \"activities\": [\"Surfing\", \"Temple visits\", \"Rice terrace trekking\", \"Yoga retreats\", \"Beach relaxation\"],\n",
    "            \"avg_cost\": \"$100-500 per night depending on accommodation type\"\n",
    "        },\n",
    "        \"santorini\": {\n",
    "            \"name\": \"Santorini, Greece\",\n",
    "            \"description\": \"Stunning volcanic island with white-washed buildings and blue domes overlooking the Aegean Sea.\",\n",
    "            \"best_time\": \"Late April to early November\",\n",
    "            \"activities\": [\"Sunset watching in Oia\", \"Wine tasting\", \"Boat tours\", \"Beach hopping\", \"Ancient ruins exploration\"],\n",
    "            \"avg_cost\": \"$200-600 per night for caldera view accommodations\"\n",
    "        }\n",
    "    }\n",
    "\n",
    "    @kernel_function(\n",
    "        name=\"get_destination_info\",\n",
    "        description=\"Provides detailed information about specific travel destinations.\"\n",
    "    )\n",
    "    @staticmethod\n",
    "    def get_destination_info(query: str) -> str:\n",
    "        # Find which destination is being asked about\n",
    "        query_lower = query.lower()\n",
    "        matching_destinations = []\n",
    "\n",
    "        for key, details in DestinationsPlugin.DESTINATIONS.items():\n",
    "            if key in query_lower or details[\"name\"].lower() in query_lower:\n",
    "                matching_destinations.append(details)\n",
    "\n",
    "        if not matching_destinations:\n",
    "            return (f\"User Query: {query}\\n\\n\"\n",
    "                    f\"I couldn't find specific destination information in our database. \"\n",
    "                    f\"Please use the general retrieval system for this query.\")\n",
    "\n",
    "        # Format destination information\n",
    "        destination_info = \"\\n\\n\".join([\n",
    "            f\"Destination: {dest['name']}\\n\"\n",
    "            f\"Description: {dest['description']}\\n\"\n",
    "            f\"Best time to visit: {dest['best_time']}\\n\"\n",
    "            f\"Popular activities: {', '.join(dest['activities'])}\\n\"\n",
    "            f\"Average cost: {dest['avg_cost']}\" for dest in matching_destinations\n",
    "        ])\n",
    "\n",
    "        return (f\"Destination Information:\\n{destination_info}\\n\\n\"\n",
    "                f\"User Query: {query}\\n\\n\"\n",
    "                \"Based on the above destination details, provide a helpful response \"\n",
    "                \"that addresses the user's query about this location.\")\n",
    "\n",
    "# Register the destinations plugin with the kernel.\n",
    "kernel.add_plugin(DestinationsPlugin(), plugin_name=\"destinationsPlugin\")"
   ]
  },
  {
   "cell_type": "markdown",
   "metadata": {},
   "source": [
    "## Setting Up ChromaDB\n",
    "\n",
    "To facilitate Retrieval-Augmented Generation, a persistent ChromaDB client is instantiated and a collection named `\"travel_documents\"` is created (or retrieved if it exists). This collection is then populated with sample travel documents and metadata."
   ]
  },
  {
   "cell_type": "code",
   "execution_count": 7,
   "metadata": {},
   "outputs": [],
   "source": [
    "collection = chromadb.PersistentClient(path=\"./chroma_db\").create_collection(\n",
    "    name=\"travel_documents\",\n",
    "    metadata={\"description\": \"travel_service\"},\n",
    "    get_or_create=True,\n",
    ")\n",
    "\n",
    "documents = [\n",
    "    \"Contoso Travel offers luxury vacation packages to exotic destinations worldwide.\",\n",
    "    \"Our premium travel services include personalized itinerary planning and 24/7 concierge support.\",\n",
    "    \"Contoso's travel insurance covers medical emergencies, trip cancellations, and lost baggage.\",\n",
    "    \"Popular destinations include the Maldives, Swiss Alps, and African safaris.\",\n",
    "    \"Contoso Travel provides exclusive access to boutique hotels and private guided tours.\",\n",
    "]\n",
    "\n",
    "collection.add(\n",
    "    documents=documents,\n",
    "    ids=[f\"doc_{i}\" for i in range(len(documents))],\n",
    "    metadatas=[{\"source\": \"training\", \"type\": \"explanation\"} for _ in documents]\n",
    ")"
   ]
  },
  {
   "cell_type": "markdown",
   "metadata": {},
   "source": [
    "A helper function `get_retrieval_context` is defined to query the collection and return the top two relevant documents (with metadata) based on the user query:"
   ]
  },
  {
   "cell_type": "code",
   "execution_count": 8,
   "metadata": {},
   "outputs": [],
   "source": [
    "def get_retrieval_context(query: str) -> str:\n",
    "    results = collection.query(\n",
    "        query_texts=[query],\n",
    "        include=[\"documents\", \"metadatas\"],\n",
    "        n_results=2\n",
    "    )\n",
    "    context_entries = []\n",
    "    if results and results.get(\"documents\") and results[\"documents\"][0]:\n",
    "        for doc, meta in zip(results[\"documents\"][0], results[\"metadatas\"][0]):\n",
    "            context_entries.append(f\"Document: {doc}\\nMetadata: {meta}\")\n",
    "    return \"\\n\\n\".join(context_entries) if context_entries else \"No retrieval context found.\""
   ]
  },
  {
   "cell_type": "markdown",
   "metadata": {},
   "source": [
    "## Setting the Function Choice Behavior \n",
    "\n",
    "In Semantic Kernel, we have the ability to have some control of the agent choice of functions. This is done by using the `FunctionChoiceBehavior` class. \n",
    "\n",
    "The code below sets it to `Auto` which allows the agent to choose among the available functions or not choose any. \n",
    "\n",
    "This can also be set to:\n",
    "`FunctionChoiceBehavior.Required` - to require the agent to choose at least one function \n",
    "`FunctionChoiceBehavior.NoneInvoke` - instructs the agent to not choose any function. (good for testing)"
   ]
  },
  {
   "cell_type": "code",
   "execution_count": 9,
   "metadata": {},
   "outputs": [],
   "source": [
    "settings = kernel.get_prompt_execution_settings_from_service_id(\"agent\")\n",
    "settings.function_choice_behavior = FunctionChoiceBehavior.Auto()\n",
    "arguments = KernelArguments(settings=settings)"
   ]
  },
  {
   "cell_type": "code",
   "execution_count": 10,
   "metadata": {},
   "outputs": [],
   "source": [
    "AGENT_NAME = \"TravelAgent\"\n",
    "AGENT_INSTRUCTIONS = (\n",
    "    \"Answer travel queries using the provided context. If context is provided, do not say 'I have no context for that.'\"\n",
    ")\n",
    "agent = ChatCompletionAgent(\n",
    "    kernel=kernel,\n",
    "    name=AGENT_NAME,\n",
    "    instructions=AGENT_INSTRUCTIONS,\n",
    "    arguments=arguments,\n",
    ")"
   ]
  },
  {
   "cell_type": "markdown",
   "metadata": {},
   "source": [
    "A helper function `get_augmented_prompt` forces a call to the plugin to build the augmented prompt. It directly calls the static plugin method:"
   ]
  },
  {
   "cell_type": "code",
   "execution_count": 11,
   "metadata": {},
   "outputs": [],
   "source": [
    "async def get_augmented_prompt(query: str) -> str:\n",
    "    retrieval_context = get_retrieval_context(query)\n",
    "    return PromptPlugin.build_augmented_prompt(query, retrieval_context)"
   ]
  },
  {
   "cell_type": "markdown",
   "metadata": {},
   "source": [
    "### Running the Agent with Streaming Chat History\n",
    "The main asynchronous loop creates a chat history for the conversation and, for each user input, first adds the augmented prompt (as a system message) to the chat history so that the agent sees the retrieval context. The user message is also added, and then the agent is invoked using streaming. The output is printed as it streams in."
   ]
  },
  {
   "cell_type": "code",
   "execution_count": null,
   "metadata": {},
   "outputs": [
    {
     "data": {
      "text/html": [
       "<div style='margin-bottom:10px'><details><summary style='cursor:pointer; font-weight:bold; color:#0066cc;'>RAG Context (click to expand)</summary><div style='margin:10px; padding:10px; background-color:#f8f8f8; border:1px solid #ddd; border-radius:4px; white-space:pre-wrap;'>Retrieved Context:\n",
       "Document: Contoso's travel insurance covers medical emergencies, trip cancellations, and lost baggage.\n",
       "Metadata: {'source': 'training', 'type': 'explanation'}\n",
       "\n",
       "Document: Contoso Travel offers luxury vacation packages to exotic destinations worldwide.\n",
       "Metadata: {'source': 'training', 'type': 'explanation'}\n",
       "\n",
       "User Query: Can you explain Contoso's travel insurance coverage?\n",
       "\n",
       "Based ONLY on the above context, please provide your answer.</div></details></div><div style='margin-bottom:10px'><div style='font-weight:bold'>User:</div><div style='margin-left:20px'>Can you explain Contoso's travel insurance coverage?</div></div><div style='margin-bottom:20px'><div style='font-weight:bold'>TravelAgent:</div><div style='margin-left:20px; white-space:pre-wrap'>Contoso's travel insurance coverage includes protection for medical emergencies, trip cancellations, and lost baggage. This means that if you encounter a medical issue while traveling, need to cancel your trip unexpectedly, or if your baggage is lost, Contoso's insurance can help cover those situations.</div></div><hr>"
      ],
      "text/plain": [
       "<IPython.core.display.HTML object>"
      ]
     },
     "metadata": {},
     "output_type": "display_data"
    },
    {
     "data": {
      "text/html": [
       "<div style='margin-bottom:10px'><details><summary style='cursor:pointer; font-weight:bold; color:#0066cc;'>RAG Context (click to expand)</summary><div style='margin:10px; padding:10px; background-color:#f8f8f8; border:1px solid #ddd; border-radius:4px; white-space:pre-wrap;'>Retrieved Context:\n",
       "Document: Popular destinations include the Maldives, Swiss Alps, and African safaris.\n",
       "Metadata: {'source': 'training', 'type': 'explanation'}\n",
       "\n",
       "Document: Contoso Travel offers luxury vacation packages to exotic destinations worldwide.\n",
       "Metadata: {'source': 'training', 'type': 'explanation'}\n",
       "\n",
       "User Query: What is the average tempature of the Maldives?\n",
       "\n",
       "Based ONLY on the above context, please provide your answer.</div></details></div><div style='margin-bottom:10px'><div style='font-weight:bold'>User:</div><div style='margin-left:20px'>What is the average tempature of the Maldives?</div></div><div style='margin-bottom:10px'><details><summary style='cursor:pointer; font-weight:bold; color:#0066cc;'>Function Calls (click to expand)</summary><div style='margin:10px; padding:10px; background-color:#f8f8f8; border:1px solid #ddd; border-radius:4px; white-space:pre-wrap;'>Calling: get_destination_temperature()<br>Calling: ({\")<br>Calling: (destination)<br>Calling: (\":\")<br>Calling: (Mal)<br>Calling: (dives)<br>Calling: (\"})<br>Result: The average temperature in Maldives is 82°F (28°C).</div></details></div><div style='margin-bottom:20px'><div style='font-weight:bold'>TravelAgent:</div><div style='margin-left:20px; white-space:pre-wrap'>The average temperature in the Maldives is82°F (28°C).</div></div><hr>"
      ],
      "text/plain": [
       "<IPython.core.display.HTML object>"
      ]
     },
     "metadata": {},
     "output_type": "display_data"
    },
    {
     "data": {
      "text/html": [
       "<div style='margin-bottom:10px'><details><summary style='cursor:pointer; font-weight:bold; color:#0066cc;'>RAG Context (click to expand)</summary><div style='margin:10px; padding:10px; background-color:#f8f8f8; border:1px solid #ddd; border-radius:4px; white-space:pre-wrap;'>Retrieved Context:\n",
       "Document: Contoso Travel offers luxury vacation packages to exotic destinations worldwide.\n",
       "Metadata: {'source': 'training', 'type': 'explanation'}\n",
       "\n",
       "Document: Contoso's travel insurance covers medical emergencies, trip cancellations, and lost baggage.\n",
       "Metadata: {'source': 'training', 'type': 'explanation'}\n",
       "\n",
       "User Query: What is a good cold destination offered by Conotso and what is it average temparture?\n",
       "\n",
       "Based ONLY on the above context, please provide your answer.</div></details></div><div style='margin-bottom:10px'><div style='font-weight:bold'>User:</div><div style='margin-left:20px'>What is a good cold destination offered by Conotso and what is it average temparture?</div></div><div style='margin-bottom:10px'><details><summary style='cursor:pointer; font-weight:bold; color:#0066cc;'>Function Calls (click to expand)</summary><div style='margin:10px; padding:10px; background-color:#f8f8f8; border:1px solid #ddd; border-radius:4px; white-space:pre-wrap;'>Calling: get_destination_temperature()<br>Calling: ({\")<br>Calling: (destination)<br>Calling: (\":\")<br>Calling: (Swiss)<br>Calling: ( Alps)<br>Calling: (\"})<br>Result: The average temperature in Swiss Alps is 45°F (7°C).</div></details></div><div style='margin-bottom:20px'><div style='font-weight:bold'>TravelAgent:</div><div style='margin-left:20px; white-space:pre-wrap'>A good cold destination offered by Contoso is the Swiss Alps, with an average temperature of45°F (7°C).</div></div><hr>"
      ],
      "text/plain": [
       "<IPython.core.display.HTML object>"
      ]
     },
     "metadata": {},
     "output_type": "display_data"
    },
    {
     "data": {
      "text/html": [
       "<div style='margin-bottom:10px'><details><summary style='cursor:pointer; font-weight:bold; color:#0066cc;'>RAG Context (click to expand)</summary><div style='margin:10px; padding:10px; background-color:#f8f8f8; border:1px solid #ddd; border-radius:4px; white-space:pre-wrap;'>Retrieved Context:\n",
       "Document: Our premium travel services include personalized itinerary planning and 24/7 concierge support.\n",
       "Metadata: {'source': 'training', 'type': 'explanation'}\n",
       "\n",
       "Document: Contoso's travel insurance covers medical emergencies, trip cancellations, and lost baggage.\n",
       "Metadata: {'source': 'training', 'type': 'explanation'}\n",
       "\n",
       "User Query: What is Neural Network?\n",
       "\n",
       "Based ONLY on the above context, please provide your answer.</div></details></div><div style='margin-bottom:10px'><div style='font-weight:bold'>User:</div><div style='margin-left:20px'>What is Neural Network?</div></div><div style='margin-bottom:20px'><div style='font-weight:bold'>TravelAgent:</div><div style='margin-left:20px; white-space:pre-wrap'>I have no context for that.</div></div><hr>"
      ],
      "text/plain": [
       "<IPython.core.display.HTML object>"
      ]
     },
     "metadata": {},
     "output_type": "display_data"
    },
    {
     "data": {
      "text/html": [
       "<div style='margin-bottom:10px'><details><summary style='cursor:pointer; font-weight:bold; color:#0066cc;'>RAG Context (click to expand)</summary><div style='margin:10px; padding:10px; background-color:#f8f8f8; border:1px solid #ddd; border-radius:4px; white-space:pre-wrap;'>Retrieved Context:\n",
       "Document: Popular destinations include the Maldives, Swiss Alps, and African safaris.\n",
       "Metadata: {'source': 'training', 'type': 'explanation'}\n",
       "\n",
       "Document: Contoso Travel offers luxury vacation packages to exotic destinations worldwide.\n",
       "Metadata: {'source': 'training', 'type': 'explanation'}\n",
       "\n",
       "User Query: Tell me more about the Swiss Alps as a destination.\n",
       "\n",
       "Based ONLY on the above context, please provide your answer.</div></details></div><div style='margin-bottom:10px'><div style='font-weight:bold'>User:</div><div style='margin-left:20px'>Tell me more about the Swiss Alps as a destination.</div></div><div style='margin-bottom:20px'><div style='font-weight:bold'>TravelAgent:</div><div style='margin-left:20px; white-space:pre-wrap'>The Swiss Alps is a popular destination known for its stunning alpine scenery, luxurious accommodations, and outdoor activities. Visitors can enjoy skiing and snowboarding in the winter, while summer offers hiking, mountain biking, and breathtaking views. The region is also famous for its charming villages, gourmet dining, and opportunities for relaxation in spas. Contoso Travel offers luxury vacation packages that may include personalized itinerary planning and concierge support, ensuring a memorable experience in the Swiss Alps.</div></div><hr>"
      ],
      "text/plain": [
       "<IPython.core.display.HTML object>"
      ]
     },
     "metadata": {},
     "output_type": "display_data"
    }
   ],
   "source": [
    "async def main():\n",
    "    # Create a chat history.\n",
    "    chat_history = ChatHistory()\n",
    "\n",
    "    user_inputs = [\n",
    "        \"Can you explain Contoso's travel insurance coverage?\", # Retrieval context available.\n",
    "        \"What is the average tempature of the Maldives?\", # Weather plugin can help\n",
    "        \"What is a good cold destination offered by Conotso and what is it average temparture?\", # Weather plugin can help\n",
    "        \"What is Neural Network?\",  # No retrieval context available.\n",
    "        \"Tell me more about the Swiss Alps as a destination.\" # Destinations plugin can help\n",
    "    ]\n",
    "\n",
    "    for user_input in user_inputs:\n",
    "        # Add the user message to chat history\n",
    "        chat_history.add_user_message(user_input)\n",
    "        augmented_prompt = await get_augmented_prompt(user_input)\n",
    "        \n",
    "        chat_history.add_system_message(\n",
    "            f\"Here is relevant information to help answer the user's question: {augmented_prompt}\")\n",
    "\n",
    "\n",
    "        # Display the augmented prompt in a collapsible section\n",
    "        html_output = f\"<div style='margin-bottom:10px'>\"\n",
    "        html_output += f\"<details>\"\n",
    "        html_output += f\"<summary style='cursor:pointer; font-weight:bold; color:#0066cc;'>RAG Context (click to expand)</summary>\"\n",
    "        html_output += f\"<div style='margin:10px; padding:10px; background-color:#f8f8f8; border:1px solid #ddd; border-radius:4px; white-space:pre-wrap;'>{augmented_prompt}</div>\"\n",
    "\n",
    "        html_output += f\"</details>\"\n",
    "        html_output += f\"</div>\"\n",
    "\n",
    "        # Show user query\n",
    "        html_output += f\"<div style='margin-bottom:10px'>\"\n",
    "        html_output += f\"<div style='font-weight:bold'>User:</div>\"\n",
    "        html_output += f\"<div style='margin-left:20px'>{user_input}</div>\"\n",
    "        html_output += f\"</div>\"\n",
    "\n",
    "        agent_name: str | None = None\n",
    "        full_response = \"\"\n",
    "        function_calls = []\n",
    "        function_results = {}\n",
    "\n",
    "        # Collect the agent's response with improved content handling\n",
    "        async for content in agent.invoke_stream(chat_history):\n",
    "            if not agent_name and hasattr(content, 'name'):\n",
    "                agent_name = content.name\n",
    "\n",
    "            # Track function calls and results\n",
    "            for item in content.items:\n",
    "                if isinstance(item, FunctionCallContent):\n",
    "                    call_info = f\"Calling: {item.function_name}({item.arguments})\"\n",
    "                    function_calls.append(call_info)\n",
    "                elif isinstance(item, FunctionResultContent):\n",
    "                    result_info = f\"Result: {item.result}\"\n",
    "                    function_calls.append(result_info)\n",
    "                    # Store function results to possibly add to chat history\n",
    "                    function_results[item.function_name] = item.result\n",
    "\n",
    "            # Better content extraction - make sure we're getting the actual text\n",
    "            if hasattr(content, 'content') and content.content and content.content.strip():\n",
    "                # Check if this is a regular text message (not function related)\n",
    "                if not any(isinstance(item, (FunctionCallContent, FunctionResultContent))\n",
    "                           for item in content.items):\n",
    "                    full_response += content.content\n",
    "\n",
    "        # Add function call info to chat history\n",
    "        if function_results:\n",
    "            # Even if we have some response text, we want to make sure function results are incorporated\n",
    "            function_results_message = \"Function calls completed with the following results: \" + \\\n",
    "                str(function_results)\n",
    "            chat_history.add_system_message(function_results_message)\n",
    "\n",
    "            # Get final response from agent that incorporates the function results\n",
    "            collected_response = \"\"\n",
    "            async for content in agent.invoke_stream(chat_history):\n",
    "                if hasattr(content, 'content') and content.content and content.content.strip():\n",
    "                    collected_response += content.content\n",
    "\n",
    "            if collected_response:\n",
    "                full_response = collected_response\n",
    "\n",
    "        # Add function calls to HTML if any occurred\n",
    "        if function_calls:\n",
    "            html_output += f\"<div style='margin-bottom:10px'>\"\n",
    "            html_output += f\"<details>\"\n",
    "            html_output += f\"<summary style='cursor:pointer; font-weight:bold; color:#0066cc;'>Function Calls (click to expand)</summary>\"\n",
    "            html_output += f\"<div style='margin:10px; padding:10px; background-color:#f8f8f8; border:1px solid #ddd; border-radius:4px; white-space:pre-wrap; font-size:14px; color:#333;'>\"\n",
    "            html_output += \"<br>\".join(function_calls)\n",
    "            html_output += f\"</div></details></div>\"\n",
    "\n",
    "        # Add agent response to HTML - make sure we have a valid response\n",
    "        html_output += f\"<div style='margin-bottom:20px'>\"\n",
    "        html_output += f\"<div style='font-weight:bold'>{agent_name or 'Assistant'}:</div>\"\n",
    "        html_output += f\"<div style='margin-left:20px; white-space:pre-wrap'>{full_response}</div>\"\n",
    "        html_output += f\"</div>\"\n",
    "        html_output += \"<hr>\"\n",
    "\n",
    "        # Add agent's response to chat history\n",
    "        if full_response:\n",
    "            chat_history.add_assistant_message(full_response)\n",
    "\n",
    "        # Display formatted HTML\n",
    "        display(HTML(html_output))\n",
    "\n",
    "await main()"
   ]
  }
 ],
 "metadata": {
  "kernelspec": {
   "display_name": "venv",
   "language": "python",
   "name": "python3"
  },
  "language_info": {
   "codemirror_mode": {
    "name": "ipython",
    "version": 3
   },
   "file_extension": ".py",
   "mimetype": "text/x-python",
   "name": "python",
   "nbconvert_exporter": "python",
   "pygments_lexer": "ipython3",
   "version": "3.12.4"
  }
 },
 "nbformat": 4,
 "nbformat_minor": 2
}
